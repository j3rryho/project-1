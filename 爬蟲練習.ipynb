{
 "cells": [
  {
   "cell_type": "code",
   "execution_count": 1,
   "metadata": {},
   "outputs": [],
   "source": [
    "%matplotlib inline\n",
    "import pandas as pd\n",
    "import numpy as np\n",
    "import matplotlib.pyplot as plt\n",
    "import sympy as sp"
   ]
  },
  {
   "cell_type": "code",
   "execution_count": 5,
   "metadata": {},
   "outputs": [
    {
     "name": "stdout",
     "output_type": "stream",
     "text": [
      "\n",
      "[問卷] 徵求高屏地區現職社工人員研究受測者\n",
      "  2/11 jungyi0707\n",
      "\n",
      "[閒聊]科學家與研究生的關係 研究篇\n",
      "  2/14 kiwi946946\n",
      "\n",
      "[徵才] 台大生技系鄭梅君實驗室誠徵研究助理\n",
      "  2/19 hannvei\n",
      "\n",
      "[情報] 請台大的同學幫忙下載一篇論文（已徵到）\n",
      "  2/22 billy10329\n",
      "\n",
      "[請益]在職班選擇(中央/交大)\n",
      "  2/24 VHHH\n",
      "\n",
      "[請益] 請教魯汶交換獎學金\n",
      "  2/24 storyofwind\n",
      "\n",
      "[問卷] 台北交大徵求汽車與機車受測者\n",
      "  2/25 c2578910\n",
      "\n",
      "（在職)學位學程與傳統系所學位差異\n",
      "  2/25 VHHH\n",
      "\n",
      "[情報] 請交大同學幫我下載論文\n",
      "  2/26 abken65\n",
      "\n",
      "[苦水] 堅持有難度的題目還是換簡單的產數據就好\n",
      "  2/26 sPicaLei\n",
      "\n",
      "[閒聊] 研究計畫一直變更是常態嗎？\n",
      "  2/27 arsl400\n",
      "\n",
      "[徵才] 國立台灣大學應用力學所誠徵研究助理 \n",
      "  2/27 zhc\n",
      "\n",
      "[請益] 東吳法律專業碩士班\n",
      "  2/27 oscar50033\n",
      "\n",
      "[徵才] 中央研究院專任助理\n",
      "  3/03 dd910\n",
      "\n",
      "[問卷] 抽7-11禮卷!醫美診所消費者行為研究\n",
      "  3/03 wendygod\n",
      "\n",
      "[公告] 板規更新\n",
      "  3/29 qtzbbztq\n"
     ]
    }
   ],
   "source": [
    "import requests\n",
    "from bs4 import BeautifulSoup\n",
    "res = requests.get('https://www.ptt.cc/bbs/Master_D/index.html')\n",
    "soup = BeautifulSoup(res.text)\n",
    "for entry in soup.select('.r-ent'):\n",
    "    print(entry.select('.title')[0].text,entry.select('.date')[0].text,entry.select('.author')[0].text)"
   ]
  },
  {
   "cell_type": "code",
   "execution_count": null,
   "metadata": {},
   "outputs": [],
   "source": []
  }
 ],
 "metadata": {
  "kernelspec": {
   "display_name": "Python 3",
   "language": "python",
   "name": "python3"
  },
  "language_info": {
   "codemirror_mode": {
    "name": "ipython",
    "version": 3
   },
   "file_extension": ".py",
   "mimetype": "text/x-python",
   "name": "python",
   "nbconvert_exporter": "python",
   "pygments_lexer": "ipython3",
   "version": "3.7.4"
  }
 },
 "nbformat": 4,
 "nbformat_minor": 2
}
